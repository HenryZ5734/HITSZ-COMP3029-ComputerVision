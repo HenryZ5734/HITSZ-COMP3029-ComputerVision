{
  "cells": [
    {
      "cell_type": "code",
      "execution_count": 10,
      "metadata": {
        "id": "EuhOcYOrAxX9"
      },
      "outputs": [],
      "source": [
        "import torch\n",
        "import torch.nn as nn\n",
        "from torch.utils.data import DataLoader\n",
        "from torchvision import datasets, transforms\n",
        "import matplotlib.pyplot as plt"
      ]
    },
    {
      "cell_type": "code",
      "execution_count": 11,
      "metadata": {
        "id": "5oF-9mpRAxX_"
      },
      "outputs": [],
      "source": [
        "# params\n",
        "BATCH_SIZE = 512\n",
        "NUM_EPOCH = 10\n",
        "NUM_CLASSES = 10\n",
        "LEARNING_RATE = 0.001\n",
        "DEVICE = torch.device('cuda' if torch.cuda.is_available() else 'cpu')"
      ]
    },
    {
      "cell_type": "code",
      "execution_count": 12,
      "metadata": {
        "id": "TVjSS3EwAxX_"
      },
      "outputs": [],
      "source": [
        "train_data = datasets.MNIST(root='data', train=True, download=True, transform=transforms.Compose([\n",
        "                                transforms.ToTensor(),\n",
        "                                transforms.Normalize((0.1307,), (0.3081,))\n",
        "                            ]))\n",
        "test_data = datasets.MNIST(root='data', train=False, download=True, transform=transforms.Compose([\n",
        "                           transforms.ToTensor(),\n",
        "                           transforms.Normalize((0.1307,), (0.3081,))\n",
        "                        ]))\n",
        "\n",
        "train_loader = DataLoader(train_data, batch_size=BATCH_SIZE, shuffle=True)\n",
        "test_loader = DataLoader(test_data, batch_size=BATCH_SIZE, shuffle=False)"
      ]
    },
    {
      "cell_type": "code",
      "execution_count": 13,
      "metadata": {
        "id": "wjVv5QgZAxYA"
      },
      "outputs": [],
      "source": [
        "class LeNet5(nn.Module):\n",
        "    def __init__(self) -> None:\n",
        "        super().__init__()\n",
        "        self.conv1 = nn.Sequential(\n",
        "            nn.Conv2d(1, 6, 5, padding=2),\n",
        "            nn.BatchNorm2d(6),\n",
        "            nn.ReLU(),\n",
        "            nn.MaxPool2d(2, 2)\n",
        "        )\n",
        "        self.conv2 = nn.Sequential(\n",
        "            nn.Conv2d(6, 16, 5),\n",
        "            nn.BatchNorm2d(16),\n",
        "            nn.ReLU(),\n",
        "            nn.MaxPool2d(2, 2)\n",
        "        )\n",
        "        self.flatten = nn.Flatten()\n",
        "        self.fc1 = nn.Sequential(\n",
        "            nn.Linear(16*5*5, 120),\n",
        "            nn.ReLU()\n",
        "        )\n",
        "        self.fc2 = nn.Sequential(\n",
        "            nn.Linear(120, 84),\n",
        "            nn.ReLU()\n",
        "        )\n",
        "        self.fc3 = nn.Linear(84, NUM_CLASSES)\n",
        "\n",
        "    def forward(self, x):\n",
        "        out = self.conv1(x)\n",
        "        out = self.conv2(out)\n",
        "        out = self.flatten(out)\n",
        "        out = self.fc1(out)\n",
        "        out = self.fc2(out)\n",
        "        out = self.fc3(out)\n",
        "        return out"
      ]
    },
    {
      "cell_type": "code",
      "execution_count": 14,
      "metadata": {
        "id": "aooavhprAxYA"
      },
      "outputs": [],
      "source": [
        "model = LeNet5()\n",
        "loss_list = []\n",
        "acc_list = []"
      ]
    },
    {
      "cell_type": "code",
      "execution_count": 19,
      "metadata": {
        "id": "ayEI1g89AxYA"
      },
      "outputs": [],
      "source": [
        "def train(num_epoch):\n",
        "    model.to(DEVICE)\n",
        "    optimizer = torch.optim.Adam(model.parameters(), lr=LEARNING_RATE)\n",
        "    criterion = nn.CrossEntropyLoss()\n",
        "\n",
        "    model.train()\n",
        "    for epoch in range(num_epoch):\n",
        "        step = 0\n",
        "        for X, y in train_loader:\n",
        "            X, y = X.to(DEVICE), y.to(DEVICE)\n",
        "            optimizer.zero_grad()\n",
        "            y_hat = model(X)\n",
        "            loss = criterion(y_hat, y)\n",
        "            loss.backward()\n",
        "            optimizer.step()\n",
        "\n",
        "            # eval\n",
        "            with torch.no_grad():\n",
        "                if step%20 == 0:\n",
        "                    acc = cal_acc(y_hat, y)\n",
        "                    print(f\"epoch {epoch}, step {step}\\nloss = {loss}, acc = {acc}\")\n",
        "                if step == 100:\n",
        "                    loss_list.append(loss.cpu().detach().numpy())\n",
        "                    acc_list.append(acc.cpu().detach().numpy())\n",
        "                step += 1\n",
        "\n",
        "def cal_acc(y_hat, y):\n",
        "    # use argmax to boost computation\n",
        "    y_hat, y = y_hat.to(DEVICE), y.to(DEVICE)\n",
        "    y_hat = y_hat.argmax(axis=1)\n",
        "    cmp = y_hat.type(y.dtype) == y\n",
        "    return cmp.type(y.dtype).sum() / y_hat.shape[0]\n",
        "\n",
        "def draw():\n",
        "    epoch = range(NUM_EPOCH)\n",
        "    plt.subplot(1,2,1)\n",
        "    plt.plot(epoch, loss_list)\n",
        "    plt.title('Loss')\n",
        "\n",
        "    plt.subplot(1,2,2)\n",
        "    plt.plot(epoch, acc_list)\n",
        "    plt.title('Accuracy')\n",
        "    plt.show()"
      ]
    },
    {
      "cell_type": "code",
      "execution_count": 16,
      "metadata": {
        "colab": {
          "base_uri": "https://localhost:8080/",
          "height": 1000
        },
        "id": "gvoPh_V0AxYB",
        "outputId": "da3cb62b-49be-47dc-fb48-4c5ec87f6917"
      },
      "outputs": [
        {
          "output_type": "stream",
          "name": "stdout",
          "text": [
            "epoch 0, step 0\n",
            "loss = 2.3180551528930664, acc = 0.08203125\n",
            "epoch 0, step 20\n",
            "loss = 0.7968359589576721, acc = 0.845703125\n",
            "epoch 0, step 40\n",
            "loss = 0.2625175416469574, acc = 0.916015625\n",
            "epoch 0, step 60\n",
            "loss = 0.16309690475463867, acc = 0.958984375\n",
            "epoch 0, step 80\n",
            "loss = 0.10907073318958282, acc = 0.96875\n",
            "epoch 0, step 100\n",
            "loss = 0.10438583046197891, acc = 0.97265625\n",
            "epoch 1, step 0\n",
            "loss = 0.09235811233520508, acc = 0.97265625\n",
            "epoch 1, step 20\n",
            "loss = 0.07784823328256607, acc = 0.97265625\n",
            "epoch 1, step 40\n",
            "loss = 0.14075946807861328, acc = 0.962890625\n",
            "epoch 1, step 60\n",
            "loss = 0.052945174276828766, acc = 0.986328125\n",
            "epoch 1, step 80\n",
            "loss = 0.056398168206214905, acc = 0.9765625\n",
            "epoch 1, step 100\n",
            "loss = 0.05806367099285126, acc = 0.984375\n",
            "epoch 2, step 0\n",
            "loss = 0.05838647484779358, acc = 0.98828125\n",
            "epoch 2, step 20\n",
            "loss = 0.05443236231803894, acc = 0.98046875\n",
            "epoch 2, step 40\n",
            "loss = 0.043474067002534866, acc = 0.9921875\n",
            "epoch 2, step 60\n",
            "loss = 0.023402933031320572, acc = 0.994140625\n",
            "epoch 2, step 80\n",
            "loss = 0.06771660596132278, acc = 0.978515625\n",
            "epoch 2, step 100\n",
            "loss = 0.0467810295522213, acc = 0.986328125\n",
            "epoch 3, step 0\n",
            "loss = 0.026212815195322037, acc = 0.9921875\n",
            "epoch 3, step 20\n",
            "loss = 0.05668574944138527, acc = 0.978515625\n",
            "epoch 3, step 40\n",
            "loss = 0.059058915823698044, acc = 0.98046875\n",
            "epoch 3, step 60\n",
            "loss = 0.01919206976890564, acc = 0.998046875\n",
            "epoch 3, step 80\n",
            "loss = 0.03841102868318558, acc = 0.986328125\n",
            "epoch 3, step 100\n",
            "loss = 0.042249757796525955, acc = 0.984375\n",
            "epoch 4, step 0\n",
            "loss = 0.044592179358005524, acc = 0.984375\n",
            "epoch 4, step 20\n",
            "loss = 0.057762838900089264, acc = 0.982421875\n",
            "epoch 4, step 40\n",
            "loss = 0.04101305082440376, acc = 0.98828125\n",
            "epoch 4, step 60\n",
            "loss = 0.016863975673913956, acc = 0.994140625\n",
            "epoch 4, step 80\n",
            "loss = 0.0345885343849659, acc = 0.990234375\n",
            "epoch 4, step 100\n",
            "loss = 0.026000672951340675, acc = 0.994140625\n",
            "epoch 5, step 0\n",
            "loss = 0.03874211013317108, acc = 0.986328125\n",
            "epoch 5, step 20\n",
            "loss = 0.03924502804875374, acc = 0.99609375\n",
            "epoch 5, step 40\n",
            "loss = 0.01605931855738163, acc = 0.994140625\n",
            "epoch 5, step 60\n",
            "loss = 0.030718224123120308, acc = 0.98828125\n",
            "epoch 5, step 80\n",
            "loss = 0.03723853826522827, acc = 0.990234375\n",
            "epoch 5, step 100\n",
            "loss = 0.02496095933020115, acc = 0.9921875\n",
            "epoch 6, step 0\n",
            "loss = 0.012141887098550797, acc = 0.998046875\n",
            "epoch 6, step 20\n",
            "loss = 0.017669199034571648, acc = 0.99609375\n",
            "epoch 6, step 40\n",
            "loss = 0.0466422438621521, acc = 0.986328125\n",
            "epoch 6, step 60\n",
            "loss = 0.07286915928125381, acc = 0.978515625\n",
            "epoch 6, step 80\n",
            "loss = 0.017772654071450233, acc = 0.99609375\n",
            "epoch 6, step 100\n",
            "loss = 0.019624313339591026, acc = 0.98828125\n",
            "epoch 7, step 0\n",
            "loss = 0.03443042188882828, acc = 0.984375\n",
            "epoch 7, step 20\n",
            "loss = 0.0354907363653183, acc = 0.990234375\n",
            "epoch 7, step 40\n",
            "loss = 0.0295474324375391, acc = 0.9921875\n",
            "epoch 7, step 60\n",
            "loss = 0.025097651407122612, acc = 0.994140625\n",
            "epoch 7, step 80\n",
            "loss = 0.0340326726436615, acc = 0.98828125\n",
            "epoch 7, step 100\n",
            "loss = 0.024987852200865746, acc = 0.990234375\n",
            "epoch 8, step 0\n",
            "loss = 0.01444570254534483, acc = 0.998046875\n",
            "epoch 8, step 20\n",
            "loss = 0.015797220170497894, acc = 0.994140625\n",
            "epoch 8, step 40\n",
            "loss = 0.01973448507487774, acc = 0.994140625\n",
            "epoch 8, step 60\n",
            "loss = 0.013788162730634212, acc = 0.994140625\n",
            "epoch 8, step 80\n",
            "loss = 0.020292924717068672, acc = 0.9921875\n",
            "epoch 8, step 100\n",
            "loss = 0.03464524820446968, acc = 0.986328125\n",
            "epoch 9, step 0\n",
            "loss = 0.014050022698938847, acc = 0.994140625\n",
            "epoch 9, step 20\n",
            "loss = 0.012760836631059647, acc = 0.99609375\n",
            "epoch 9, step 40\n",
            "loss = 0.0287774708122015, acc = 0.98828125\n",
            "epoch 9, step 60\n",
            "loss = 0.030382752418518066, acc = 0.98828125\n",
            "epoch 9, step 80\n",
            "loss = 0.02125002257525921, acc = 0.9921875\n",
            "epoch 9, step 100\n",
            "loss = 0.02663680911064148, acc = 0.9921875\n"
          ]
        },
        {
          "output_type": "display_data",
          "data": {
            "text/plain": [
              "<Figure size 640x480 with 2 Axes>"
            ],
            "image/png": "[encoded data removed]"
          },
          "metadata": {}
        }
      ],
      "source": [
        "train(NUM_EPOCH)\n",
        "draw()"
      ]
    },
    {
      "cell_type": "code",
      "execution_count": 17,
      "metadata": {
        "id": "GsIYdiNzAxYB"
      },
      "outputs": [],
      "source": [
        "def test():\n",
        "    total_acc = 0\n",
        "    step = 0\n",
        "    model.to(DEVICE)\n",
        "    model.eval()\n",
        "    with torch.no_grad():\n",
        "        for X, y in test_loader:\n",
        "            X, y = X.to(DEVICE), y.to(DEVICE)\n",
        "            y_hat = model(X)\n",
        "            acc = cal_acc(y_hat, y)\n",
        "            total_acc += acc\n",
        "            print(f\"batch {step} acc: {acc}\")\n",
        "            step += 1\n",
        "        print(f\"total acc {total_acc / step}\")"
      ]
    },
    {
      "cell_type": "code",
      "execution_count": 18,
      "metadata": {
        "colab": {
          "base_uri": "https://localhost:8080/"
        },
        "id": "CwF-GqC3AxYB",
        "outputId": "177648db-93ee-482b-b341-c652ff13ad63"
      },
      "outputs": [
        {
          "output_type": "stream",
          "name": "stdout",
          "text": [
            "batch 0 acc: 0.9921875\n",
            "batch 1 acc: 0.982421875\n",
            "batch 2 acc: 0.98046875\n",
            "batch 3 acc: 0.978515625\n",
            "batch 4 acc: 0.982421875\n",
            "batch 5 acc: 0.98046875\n",
            "batch 6 acc: 0.986328125\n",
            "batch 7 acc: 0.986328125\n",
            "batch 8 acc: 0.98828125\n",
            "batch 9 acc: 0.986328125\n",
            "batch 10 acc: 0.998046875\n",
            "batch 11 acc: 0.990234375\n",
            "batch 12 acc: 0.990234375\n",
            "batch 13 acc: 0.9921875\n",
            "batch 14 acc: 1.0\n",
            "batch 15 acc: 0.99609375\n",
            "batch 16 acc: 0.994140625\n",
            "batch 17 acc: 0.998046875\n",
            "batch 18 acc: 0.99609375\n",
            "batch 19 acc: 0.9926470518112183\n",
            "total acc 0.9895737767219543\n"
          ]
        }
      ],
      "source": [
        "test()"
      ]
    }
  ],
  "metadata": {
    "kernelspec": {
      "display_name": "Python 3",
      "name": "python3"
    },
    "language_info": {
      "codemirror_mode": {
        "name": "ipython",
        "version": 3
      },
      "file_extension": ".py",
      "mimetype": "text/x-python",
      "name": "python",
      "nbconvert_exporter": "python",
      "pygments_lexer": "ipython3",
      "version": "3.9.7"
    },
    "orig_nbformat": 4,
    "colab": {
      "provenance": [],
      "gpuType": "T4"
    },
    "accelerator": "GPU"
  },
  "nbformat": 4,
  "nbformat_minor": 0
}